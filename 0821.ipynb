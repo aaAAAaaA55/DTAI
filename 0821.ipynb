{
 "cells": [
  {
   "cell_type": "code",
   "execution_count": 2,
   "metadata": {},
   "outputs": [
    {
     "name": "stdout",
     "output_type": "stream",
     "text": [
      "*****\n",
      "total:5\n"
     ]
    }
   ],
   "source": [
    "password = input()  # 接收輸入\n",
    "length = len(password)  # 計算密碼長度\n",
    "print('*' * length)  # 輸出與密碼長度相同數量的星號\n",
    "print(f'total:{length}')  # 輸出總長度，確保沒有多餘的空格"
   ]
  },
  {
   "cell_type": "code",
   "execution_count": 1,
   "metadata": {},
   "outputs": [
    {
     "name": "stdout",
     "output_type": "stream",
     "text": [
      "01:00:00\n"
     ]
    }
   ],
   "source": [
    "# 接收輸入的秒數\n",
    "seconds = int(input())\n",
    "\n",
    "# 計算小時、分鐘和秒\n",
    "hours = seconds // 3600\n",
    "minutes = (seconds % 3600) // 60\n",
    "seconds = seconds % 60\n",
    "\n",
    "# 格式化並輸出為 24 小時制的 '時:分:秒' 格式\n",
    "print(f\"{hours:02}:{minutes:02}:{seconds:02}\")"
   ]
  },
  {
   "cell_type": "code",
   "execution_count": 3,
   "metadata": {},
   "outputs": [
    {
     "name": "stdout",
     "output_type": "stream",
     "text": [
      "651546 is common year\n"
     ]
    }
   ],
   "source": [
    "y=int(input())\n",
    "if (y%100==0 and y%400==0) or (y%4==0 and y%100!=0):\n",
    "    print(y,'is leap year')\n",
    "else:\n",
    "    print(y,'is common year')"
   ]
  },
  {
   "cell_type": "code",
   "execution_count": 11,
   "metadata": {},
   "outputs": [
    {
     "name": "stdout",
     "output_type": "stream",
     "text": [
      "8*1=8 8*2=16 8*3=24 8*4=32 8*5=40 8*6=48 8*7=56 8*8=64 8*9=72 \n",
      "9*1=9 9*2=18 9*3=27 9*4=36 9*5=45 9*6=54 9*7=63 9*8=72 9*9=81 \n"
     ]
    }
   ],
   "source": [
    "a = int(input())  # 接收使用者輸入的數字\n",
    "\n",
    "for i in range(a, 10):  # 從 a 到 9 的每一個數字\n",
    "    for j in range(1, 10):  # 從 1 到 9 的每一個數字\n",
    "        # 使用 %d 格式化輸出\n",
    "        print('%d*%d=%d' % (i, j, i * j), end=' ')  # 每行輸出，不換行\n",
    "    print()  # 每次外層迴圈結束後換行"
   ]
  },
  {
   "cell_type": "code",
   "execution_count": 19,
   "metadata": {},
   "outputs": [
    {
     "name": "stdout",
     "output_type": "stream",
     "text": [
      "34\n"
     ]
    }
   ],
   "source": [
    "a = int(input()) \n",
    "b=0\n",
    "for i in range(15, a): #這個不正確，求助ai\n",
    "    if i%2==0:\n",
    "        b+=i\n",
    "print(b)"
   ]
  },
  {
   "cell_type": "code",
   "execution_count": null,
   "metadata": {},
   "outputs": [],
   "source": [
    "a = int(input()) \n",
    "b=0\n",
    "for i in range(15,a+1): #差在沒+1\n",
    "    if i%2==0:\n",
    "        b+=i\n",
    "print(b)"
   ]
  },
  {
   "cell_type": "code",
   "execution_count": 18,
   "metadata": {},
   "outputs": [
    {
     "name": "stdout",
     "output_type": "stream",
     "text": [
      "{Ans apple\n"
     ]
    }
   ],
   "source": [
    "a = str(input()) \n",
    "print('Ans', a)"
   ]
  },
  {
   "cell_type": "code",
   "execution_count": null,
   "metadata": {},
   "outputs": [],
   "source": [
    "a,b,c,d,e,f,g,h,i=list(map(int,input().split()))\n",
    "x=a+b+c+d+e+f+g+h+i\n",
    "print(x)"
   ]
  },
  {
   "cell_type": "code",
   "execution_count": 22,
   "metadata": {},
   "outputs": [
    {
     "name": "stdout",
     "output_type": "stream",
     "text": [
      "17\n"
     ]
    }
   ],
   "source": [
    "a = str(input()) \n",
    "print(len(a))"
   ]
  },
  {
   "cell_type": "code",
   "execution_count": 24,
   "metadata": {},
   "outputs": [
    {
     "name": "stdout",
     "output_type": "stream",
     "text": [
      "17\n"
     ]
    }
   ],
   "source": [
    "a = str(input()) \n",
    "b=len(a)\n",
    "print(b)"
   ]
  },
  {
   "cell_type": "code",
   "execution_count": 26,
   "metadata": {},
   "outputs": [
    {
     "name": "stdout",
     "output_type": "stream",
     "text": [
      "165\n"
     ]
    }
   ],
   "source": [
    "N = int(input()) \n",
    "b=0\n",
    "for i in range(10,N+1): \n",
    "    b+=i\n",
    "print(b)"
   ]
  },
  {
   "cell_type": "code",
   "execution_count": 28,
   "metadata": {},
   "outputs": [
    {
     "name": "stdout",
     "output_type": "stream",
     "text": [
      "30\n"
     ]
    }
   ],
   "source": [
    "體溫=float(input())\n",
    "if 體溫>=37.5:\n",
    "    print(體溫,'is over')\n",
    "elif 體溫>=37 and 體溫<=37.4:\n",
    "    print(體溫,'is little over')\n",
    "elif 體溫>=34 and 體溫<=36.9:\n",
    "    print(體溫,'is normal')\n",
    "else:\n",
    "    print(體溫,'is error')"
   ]
  },
  {
   "cell_type": "code",
   "execution_count": null,
   "metadata": {},
   "outputs": [],
   "source": [
    "體溫=float(input())\n",
    "if 體溫>100:\n",
    "    print(體溫,'is error')\n",
    "elif 體溫>=90 and 體溫<=100:\n",
    "    print(體溫,'is A')\n",
    "elif 體溫>=80 and 體溫<=89:\n",
    "    print(體溫,'is B')\n",
    "elif 體溫>=80 and 體溫<=89:\n",
    "    print(體溫,'is B')\n",
    "elif 體溫>=80 and 體溫<=89:\n",
    "    print(體溫,'is B')\n",
    "elif 體溫>=80 and 體溫<=89:\n",
    "    print(體溫,'is B')\n",
    "else:\n",
    "    print(體溫,'is error')"
   ]
  }
 ],
 "metadata": {
  "kernelspec": {
   "display_name": "Python 3",
   "language": "python",
   "name": "python3"
  },
  "language_info": {
   "codemirror_mode": {
    "name": "ipython",
    "version": 3
   },
   "file_extension": ".py",
   "mimetype": "text/x-python",
   "name": "python",
   "nbconvert_exporter": "python",
   "pygments_lexer": "ipython3",
   "version": "3.12.4"
  }
 },
 "nbformat": 4,
 "nbformat_minor": 2
}
