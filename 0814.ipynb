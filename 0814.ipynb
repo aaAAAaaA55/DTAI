{
 "cells": [
  {
   "cell_type": "code",
   "execution_count": 61,
   "metadata": {},
   "outputs": [
    {
     "name": "stdout",
     "output_type": "stream",
     "text": [
      "1\n",
      "1 * 1 = 1\n",
      "1 * 2 = 2\n",
      "2\n",
      "2 * 1 = 2\n",
      "2 * 2 = 4\n",
      "3\n",
      "3 * 1 = 3\n",
      "3 * 2 = 6\n",
      "4\n",
      "4 * 1 = 4\n",
      "4 * 2 = 8\n"
     ]
    }
   ],
   "source": [
    "for a in range(1,5):\n",
    "    print(a)\n",
    "    for b in range(1,3):\n",
    "        c=a*b\n",
    "        print(a,'*',b,'=',c)"
   ]
  },
  {
   "cell_type": "code",
   "execution_count": 62,
   "metadata": {},
   "outputs": [
    {
     "name": "stdout",
     "output_type": "stream",
     "text": [
      "1\n",
      "2\n",
      "3\n",
      "4\n",
      "4 * 1 = 4\n",
      "4 * 2 = 8\n"
     ]
    }
   ],
   "source": [
    "for a in range(1,5):\n",
    "    print(a)\n",
    "for b in range(1,3):\n",
    "    c=a*b\n",
    "    print(a,'*',b,'=',c)"
   ]
  },
  {
   "cell_type": "code",
   "execution_count": 63,
   "metadata": {},
   "outputs": [
    {
     "name": "stdout",
     "output_type": "stream",
     "text": [
      "2*1= 2  2*2= 4  2*3= 6  2*4= 8  2*5=10  2*6=12  2*7=14  2*8=16  2*9=18  \n",
      "3*1= 3  3*2= 6  3*3= 9  3*4=12  3*5=15  3*6=18  3*7=21  3*8=24  3*9=27  \n",
      "4*1= 4  4*2= 8  4*3=12  4*4=16  4*5=20  4*6=24  4*7=28  4*8=32  4*9=36  \n",
      "5*1= 5  5*2=10  5*3=15  5*4=20  5*5=25  5*6=30  5*7=35  5*8=40  5*9=45  \n",
      "6*1= 6  6*2=12  6*3=18  6*4=24  6*5=30  6*6=36  6*7=42  6*8=48  6*9=54  \n",
      "7*1= 7  7*2=14  7*3=21  7*4=28  7*5=35  7*6=42  7*7=49  7*8=56  7*9=63  \n",
      "8*1= 8  8*2=16  8*3=24  8*4=32  8*5=40  8*6=48  8*7=56  8*8=64  8*9=72  \n",
      "9*1= 9  9*2=18  9*3=27  9*4=36  9*5=45  9*6=54  9*7=63  9*8=72  9*9=81  \n"
     ]
    }
   ],
   "source": [
    "for a in range(2,10):\n",
    "    for b in range(1,10):\n",
    "        c=a*b\n",
    "        print('%d*%d=%2d' % (a,b,c),end='  ')\n",
    "    print()\n",
    "        "
   ]
  },
  {
   "cell_type": "code",
   "execution_count": 64,
   "metadata": {},
   "outputs": [
    {
     "name": "stdout",
     "output_type": "stream",
     "text": [
      "1  2  3  4  "
     ]
    }
   ],
   "source": [
    "for a in range(1,9):\n",
    "    if(a==5):\n",
    "        break\n",
    "    print(a,end='  ')"
   ]
  },
  {
   "cell_type": "code",
   "execution_count": 65,
   "metadata": {},
   "outputs": [
    {
     "name": "stdout",
     "output_type": "stream",
     "text": [
      "1  2  3  5  6  7  "
     ]
    }
   ],
   "source": [
    "for a in range(1,8):\n",
    "    if(a==4):\n",
    "        continue\n",
    "    print(a,end='  ')"
   ]
  },
  {
   "cell_type": "code",
   "execution_count": 66,
   "metadata": {},
   "outputs": [
    {
     "name": "stdout",
     "output_type": "stream",
     "text": [
      "奇數: 1\n",
      "奇數: 3\n",
      "奇數: 5\n",
      "奇數: 7\n",
      "奇數: 9\n",
      "奇數: 11\n",
      "奇數: 13\n",
      "奇數: 15\n",
      "奇數: 17\n",
      "奇數: 19\n"
     ]
    }
   ],
   "source": [
    "for a in range(1,20):\n",
    "    if(a%2==0):\n",
    "        continue\n",
    "    print('奇數:',a)"
   ]
  },
  {
   "cell_type": "code",
   "execution_count": 67,
   "metadata": {},
   "outputs": [
    {
     "name": "stdout",
     "output_type": "stream",
     "text": [
      "奇數: 1,\n",
      "奇數: 3,\n",
      "奇數: 5,\n",
      "奇數: 7,\n",
      "奇數: 9,\n",
      "奇數: 11,\n",
      "奇數: 13,\n",
      "奇數: 15,\n",
      "奇數: 17,\n",
      "奇數: 19,\n"
     ]
    }
   ],
   "source": [
    "for a in range(1,20):\n",
    "    if(a%2==0):\n",
    "        continue\n",
    "    print('奇數:',a,end=',')\n",
    "    print()"
   ]
  },
  {
   "cell_type": "code",
   "execution_count": null,
   "metadata": {},
   "outputs": [
    {
     "name": "stdout",
     "output_type": "stream",
     "text": [
      "3\n",
      "6\n"
     ]
    }
   ],
   "source": [
    "total=n=0\n",
    "while(n<3):\n",
    "    n+=1\n",
    "    total+=n\n",
    "print(n)\n",
    "print(total)"
   ]
  },
  {
   "cell_type": "code",
   "execution_count": 78,
   "metadata": {},
   "outputs": [
    {
     "name": "stdout",
     "output_type": "stream",
     "text": [
      "5! = 120\n"
     ]
    }
   ],
   "source": [
    "n=int(input('請輸入一個正整數'))\n",
    "if n > 0:\n",
    "    result = 1\n",
    "    i = 1\n",
    "\n",
    "    while i <= n:\n",
    "        result *= i\n",
    "        i += 1\n",
    "\n",
    "    print(str(n) + \"! = \" + str(result))\n"
   ]
  },
  {
   "cell_type": "code",
   "execution_count": 81,
   "metadata": {},
   "outputs": [
    {
     "name": "stdout",
     "output_type": "stream",
     "text": [
      "5 ! =  120\n"
     ]
    }
   ],
   "source": [
    "n=int(input('請輸入一個正整數'))\n",
    "if n > 0:\n",
    "    result = 1\n",
    "    i = 1\n",
    "\n",
    "    while i <= n:\n",
    "        result *= i\n",
    "        i += 1\n",
    "\n",
    "    print(n ,\"! = \",result)"
   ]
  },
  {
   "cell_type": "code",
   "execution_count": 60,
   "metadata": {},
   "outputs": [
    {
     "name": "stdout",
     "output_type": "stream",
     "text": [
      "4 和 6 的最小公倍數為 5\n"
     ]
    }
   ],
   "source": [
    "c=int(input('請輸入一個正整數'))\n",
    "d=int(input('請輸入一個正整數'))\n",
    "for a in range(c,d,1):\n",
    "    if a%c==0 and a%d==0:\n",
    "        braak\n",
    "print(c,'和',d,'的最小公倍數為',a)"
   ]
  },
  {
   "cell_type": "code",
   "execution_count": 84,
   "metadata": {},
   "outputs": [
    {
     "name": "stdout",
     "output_type": "stream",
     "text": [
      "找到第一個奇數:  1\n"
     ]
    }
   ],
   "source": [
    "for i in range(1, 20):\n",
    "    if i % 2 != 0:\n",
    "        print(\"找到第一個奇數: \",i)\n",
    "        break"
   ]
  },
  {
   "cell_type": "code",
   "execution_count": 88,
   "metadata": {},
   "outputs": [
    {
     "name": "stdout",
     "output_type": "stream",
     "text": [
      "m 0  m 1  m 2  a 0  a 1  a 2  i 0  i 1  i 2  l 0  l 1  l 2  "
     ]
    }
   ],
   "source": [
    "for letter in 'mail':\n",
    "    for i in range(3):\n",
    "        print(letter,i,end='  ')\n"
   ]
  },
  {
   "cell_type": "code",
   "execution_count": 90,
   "metadata": {},
   "outputs": [
    {
     "name": "stdout",
     "output_type": "stream",
     "text": [
      "5  的因數有  [1, 5]\n",
      "5 是質數\n"
     ]
    }
   ],
   "source": [
    "n = int(input(\"請輸入正整數: \"))\n",
    "factors = []\n",
    "for i in range(1, n + 1):\n",
    "    if n % i == 0:\n",
    "        factors.append(i)\n",
    "print(n , \" 的因數有 \", factors)\n",
    "if len(factors) == 2:\n",
    "    print(str(n) + \" 是質數\")\n",
    "else:\n",
    "    print(str(n) + \" 不是質數\")"
   ]
  },
  {
   "cell_type": "code",
   "execution_count": 95,
   "metadata": {},
   "outputs": [
    {
     "name": "stdout",
     "output_type": "stream",
     "text": [
      "aaaaaa\n",
      "aaaaaa\n"
     ]
    }
   ],
   "source": [
    "while True:\n",
    "    user=input()\n",
    "    if user=='n':\n",
    "       break\n",
    "    print('aaaaaa')\n"
   ]
  },
  {
   "cell_type": "code",
   "execution_count": 105,
   "metadata": {},
   "outputs": [
    {
     "name": "stdout",
     "output_type": "stream",
     "text": [
      "1 2 4 5 8 10 13 20 26 40 52 65 104 130 260 520 "
     ]
    }
   ],
   "source": [
    "n=int(input())\n",
    "for a in range(1,n+1):\n",
    "    if n%a==0:\n",
    "        print(a,end=' ')"
   ]
  },
  {
   "cell_type": "code",
   "execution_count": 120,
   "metadata": {},
   "outputs": [
    {
     "name": "stdout",
     "output_type": "stream",
     "text": [
      "21416430\n"
     ]
    }
   ],
   "source": [
    "n=int(input())\n",
    "sum=0\n",
    "for a in range(1,n):\n",
    "    if a%3==0 or a%7==0:\n",
    "        sum=sum+a\n",
    "print(sum)"
   ]
  },
  {
   "cell_type": "code",
   "execution_count": 117,
   "metadata": {},
   "outputs": [
    {
     "name": "stdout",
     "output_type": "stream",
     "text": [
      "3\n",
      "9\n",
      "16\n",
      "25\n",
      "37\n",
      "51\n",
      "66\n",
      "84\n",
      "105\n",
      "129\n",
      "156\n",
      "184\n",
      "214\n",
      "247\n",
      "282\n",
      "318\n",
      "357\n",
      "399\n",
      "444\n",
      "492\n",
      "541\n"
     ]
    }
   ],
   "source": [
    "n=int(input())\n",
    "sum=0\n",
    "for a in range(1,n):\n",
    "    if a%3==0 or a%7==0:\n",
    "        sum=sum+a\n",
    "        print(sum)"
   ]
  }
 ],
 "metadata": {
  "kernelspec": {
   "display_name": "Python 3",
   "language": "python",
   "name": "python3"
  },
  "language_info": {
   "codemirror_mode": {
    "name": "ipython",
    "version": 3
   },
   "file_extension": ".py",
   "mimetype": "text/x-python",
   "name": "python",
   "nbconvert_exporter": "python",
   "pygments_lexer": "ipython3",
   "version": "3.12.4"
  }
 },
 "nbformat": 4,
 "nbformat_minor": 2
}
