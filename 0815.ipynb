{
 "cells": [
  {
   "cell_type": "code",
   "execution_count": 1,
   "metadata": {},
   "outputs": [
    {
     "name": "stdout",
     "output_type": "stream",
     "text": [
      "Hello world, I am oxxo!!\n",
      "Hello world, I am xoox!!\n",
      "there are 2 dollars\n",
      "there are 2.000000 dollars\n"
     ]
    }
   ],
   "source": [
    "a = 'Hello world, I am %s!!'\n",
    "b = 'there are %d dollars'\n",
    "c = 'there are %f dollars'\n",
    "print(a % 'oxxo')  # Hello world, I am oxxo!!\n",
    "print(a % 'xoox')  # Hello world, I am xoox!!\n",
    "print(b % 2.5)     # there are 2 dollars ( 小數點被無條件捨去 )\n",
    "print(c % 2)       # there are 2.000000 dollars ( 整數轉換成浮點數 )"
   ]
  },
  {
   "cell_type": "code",
   "execution_count": null,
   "metadata": {},
   "outputs": [],
   "source": [
    "print('%s world' % 'hello')      # hello world\n",
    "print('%12s world' % 'hello')    #        hello world\n",
    "print('%+12s world' % 'hello')   #        hello world\n",
    "print('%-12s world' % 'hello')   # hello        world\n",
    "print('%.3s world' % 'hello')    # hel world\n",
    "print('%12.3s world' % 'hello')  #          hel world\n",
    "\n",
    "print('%.3f world' % 123.456789) # 123.457 world"
   ]
  },
  {
   "cell_type": "code",
   "execution_count": 2,
   "metadata": {},
   "outputs": [
    {
     "name": "stdout",
     "output_type": "stream",
     "text": [
      "give me 8 dollar,我要9.000000元\n"
     ]
    }
   ],
   "source": [
    "a='give me %d dollar,我要%f元'\n",
    "b=a % ( 8,9 )\n",
    "print(b)"
   ]
  },
  {
   "cell_type": "code",
   "execution_count": null,
   "metadata": {},
   "outputs": [],
   "source": [
    "a='give me {1} dollar,我要{0}元'\n",
    "b=a.format ( '九',9)\n",
    "print(b)"
   ]
  },
  {
   "cell_type": "code",
   "execution_count": 10,
   "metadata": {},
   "outputs": [
    {
     "name": "stdout",
     "output_type": "stream",
     "text": [
      "hello world, I am oxxo\n",
      "hello world     , I am oxxo      \n",
      "hello      world, I am       oxxo\n",
      "hello --world---, I am +++oxxo+++\n",
      "hello ---wor----, I am ---oxxo---\n",
      "hello ---wor----, I am  123.457  \n",
      "hello --world---, I am +++oxxo+++\n"
     ]
    }
   ],
   "source": [
    "a = 'hello {}, I am {}'.format('world','oxxo')\n",
    "b = 'hello {:10s}, I am {:10s}'.format('world','oxxo')\n",
    "c = 'hello {:>10s}, I am {:>10s}'.format('world','oxxo')\n",
    "d = 'hello {:-^10s}, I am {:+^10s}'.format('world','oxxo')\n",
    "e = 'hello {:-^10.3s}, I am {:-^10s}'.format('world','oxxo')\n",
    "f = 'hello {:-^10.3s}, I am {:^10.3f}'.format('world',123.456789)\n",
    "print(a)  # hello world, I am oxxo\n",
    "print(b)  # hello world     , I am oxxo\n",
    "print(c)  # hello      world, I am       oxxo\n",
    "print(d)  # hello --world---, I am +++oxxo+++\n",
    "print(e)  # hello ---wor----, I am ---oxxo---\n",
    "print(f)  # hello ---wor----, I am  123.457\n"
   ]
  },
  {
   "cell_type": "code",
   "execution_count": 31,
   "metadata": {},
   "outputs": [
    {
     "ename": "ValueError",
     "evalue": "Sign not allowed in string format specifier",
     "output_type": "error",
     "traceback": [
      "\u001b[1;31m---------------------------------------------------------------------------\u001b[0m",
      "\u001b[1;31mValueError\u001b[0m                                Traceback (most recent call last)",
      "Cell \u001b[1;32mIn[31], line 1\u001b[0m\n\u001b[1;32m----> 1\u001b[0m g \u001b[38;5;241m=\u001b[39m \u001b[38;5;124;43m'\u001b[39;49m\u001b[38;5;124;43mhello \u001b[39;49m\u001b[38;5;132;43;01m{:+11s}\u001b[39;49;00m\u001b[38;5;124;43m,\u001b[39;49m\u001b[38;5;132;43;01m{:-^11s}\u001b[39;49;00m\u001b[38;5;124;43m, I am \u001b[39;49m\u001b[38;5;132;43;01m{:+^10s}\u001b[39;49;00m\u001b[38;5;124;43m,\u001b[39;49m\u001b[38;5;132;43;01m{:-^5s}\u001b[39;49;00m\u001b[38;5;124;43m'\u001b[39;49m\u001b[38;5;241;43m.\u001b[39;49m\u001b[43mformat\u001b[49m\u001b[43m(\u001b[49m\u001b[38;5;124;43m'\u001b[39;49m\u001b[38;5;124;43mwor\u001b[39;49m\u001b[38;5;124;43m'\u001b[39;49m\u001b[43m,\u001b[49m\u001b[38;5;124;43m'\u001b[39;49m\u001b[38;5;124;43mld\u001b[39;49m\u001b[38;5;124;43m'\u001b[39;49m\u001b[43m,\u001b[49m\u001b[38;5;124;43m'\u001b[39;49m\u001b[38;5;124;43moxxo\u001b[39;49m\u001b[38;5;124;43m'\u001b[39;49m\u001b[43m,\u001b[49m\u001b[38;5;124;43m'\u001b[39;49m\u001b[38;5;124;43m'\u001b[39;49m\u001b[43m)\u001b[49m\n\u001b[0;32m      2\u001b[0m \u001b[38;5;28mprint\u001b[39m(g)\n",
      "\u001b[1;31mValueError\u001b[0m: Sign not allowed in string format specifier"
     ]
    }
   ],
   "source": [
    "g = 'hello {:+11s},{:-^11s}, I am {:+^10s},{:-^5s}'.format('wor','ld','oxxo','')\n",
    "print(g)"
   ]
  },
  {
   "cell_type": "code",
   "execution_count": 32,
   "metadata": {},
   "outputs": [
    {
     "name": "stdout",
     "output_type": "stream",
     "text": [
      "hello +++world---, I am +++oxxo---\n"
     ]
    }
   ],
   "source": [
    "g = 'hello +++{}---, I am +++{}---'.format('world','oxxo',)\n",
    "print(g)"
   ]
  },
  {
   "cell_type": "code",
   "execution_count": 33,
   "metadata": {},
   "outputs": [
    {
     "name": "stdout",
     "output_type": "stream",
     "text": [
      "hello +++world---, I am +++oxxo---\n"
     ]
    }
   ],
   "source": [
    "print('hello +++world---, I am +++oxxo---')"
   ]
  },
  {
   "cell_type": "code",
   "execution_count": 46,
   "metadata": {},
   "outputs": [
    {
     "name": "stdout",
     "output_type": "stream",
     "text": [
      "hello +++world---, I am +++oxxo---\n"
     ]
    }
   ],
   "source": [
    "yyy=\"world\"\n",
    "ooo=\"oxxo\"\n",
    "g = f'hello +++{ yyy }---, I am +++{ ooo }---'\n",
    "print(g)"
   ]
  },
  {
   "cell_type": "code",
   "execution_count": 52,
   "metadata": {},
   "outputs": [
    {
     "name": "stdout",
     "output_type": "stream",
     "text": [
      "001 , 002 , 003 , 004 , 005 , 006 , 007 , 008 , 009 , 010 , \n",
      "011 , 012 , 013 , 014 , 015 , 016 , 017 , 018 , 019 , 020 , \n",
      "021 , 022 , 023 , 024 , 025 , 026 , 027 , 028 , 029 , 030 , \n"
     ]
    }
   ],
   "source": [
    "j=0\n",
    "for i in range(1,31):\n",
    "    print(f'{i:03d}',end=' , ')\n",
    "    j+=1\n",
    "    if j%10==0:\n",
    "        print()"
   ]
  },
  {
   "cell_type": "code",
   "execution_count": 54,
   "metadata": {},
   "outputs": [
    {
     "name": "stdout",
     "output_type": "stream",
     "text": [
      "123.46\n"
     ]
    }
   ],
   "source": [
    "j=eval(input(''))\n",
    "print(round(j,2))"
   ]
  },
  {
   "cell_type": "code",
   "execution_count": 65,
   "metadata": {},
   "outputs": [
    {
     "name": "stdout",
     "output_type": "stream",
     "text": [
      "hello world"
     ]
    }
   ],
   "source": [
    "j=(input())\n",
    "g=(input())\n",
    "print(j,g,end=\"\")"
   ]
  },
  {
   "cell_type": "code",
   "execution_count": 68,
   "metadata": {},
   "outputs": [
    {
     "name": "stdout",
     "output_type": "stream",
     "text": [
      "You are 34 years old\n"
     ]
    }
   ],
   "source": [
    "j=int(input())\n",
    "b=2024-j\n",
    "print('You are',b,'years old')"
   ]
  },
  {
   "cell_type": "code",
   "execution_count": 81,
   "metadata": {},
   "outputs": [
    {
     "name": "stdout",
     "output_type": "stream",
     "text": [
      "2024-08-15 - report . pdf"
     ]
    }
   ],
   "source": [
    "j=(input())\n",
    "b=(input())\n",
    "import datetime\n",
    "print(datetime.date.today(),'-',j,'.',b,end='')"
   ]
  },
  {
   "cell_type": "code",
   "execution_count": 80,
   "metadata": {},
   "outputs": [
    {
     "name": "stdout",
     "output_type": "stream",
     "text": [
      "6 * 7 = 42"
     ]
    }
   ],
   "source": [
    "r=int(input())\n",
    "cc=int(input())\n",
    "hh=r*cc\n",
    "print(r,'*',cc,'=',hh,end='')"
   ]
  }
 ],
 "metadata": {
  "kernelspec": {
   "display_name": "Python 3",
   "language": "python",
   "name": "python3"
  },
  "language_info": {
   "codemirror_mode": {
    "name": "ipython",
    "version": 3
   },
   "file_extension": ".py",
   "mimetype": "text/x-python",
   "name": "python",
   "nbconvert_exporter": "python",
   "pygments_lexer": "ipython3",
   "version": "3.12.4"
  }
 },
 "nbformat": 4,
 "nbformat_minor": 2
}
