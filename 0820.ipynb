{
 "cells": [
  {
   "cell_type": "code",
   "execution_count": 2,
   "metadata": {},
   "outputs": [
    {
     "name": "stdout",
     "output_type": "stream",
     "text": [
      "[2, 3, 4]\n"
     ]
    }
   ],
   "source": [
    "print(list(range(2,5)))"
   ]
  },
  {
   "cell_type": "code",
   "execution_count": 5,
   "metadata": {},
   "outputs": [
    {
     "name": "stdout",
     "output_type": "stream",
     "text": [
      "[2]\n"
     ]
    }
   ],
   "source": [
    "print(list(range(2,5,9)))"
   ]
  },
  {
   "cell_type": "code",
   "execution_count": 6,
   "metadata": {},
   "outputs": [
    {
     "name": "stdout",
     "output_type": "stream",
     "text": [
      "{'香蕉', '橘子'}\n"
     ]
    }
   ],
   "source": [
    "list1={'香蕉','橘子'}\n",
    "print(list1)"
   ]
  },
  {
   "cell_type": "code",
   "execution_count": 14,
   "metadata": {},
   "outputs": [
    {
     "name": "stdout",
     "output_type": "stream",
     "text": [
      "['香蕉', '橘子']\n",
      "橘子\n",
      "香蕉\n"
     ]
    }
   ],
   "source": [
    "list1=['香蕉','橘子']\n",
    "print(list1)\n",
    "print(list1[1])\n",
    "print(list1[-2])"
   ]
  },
  {
   "cell_type": "code",
   "execution_count": 29,
   "metadata": {},
   "outputs": [
    {
     "name": "stdout",
     "output_type": "stream",
     "text": [
      "香蕉\n",
      "橘子\n"
     ]
    }
   ],
   "source": [
    "list1=['香蕉','橘子']\n",
    "for s in list1:\n",
    "    print(s)"
   ]
  },
  {
   "cell_type": "code",
   "execution_count": 31,
   "metadata": {},
   "outputs": [
    {
     "name": "stdout",
     "output_type": "stream",
     "text": [
      "香蕉,橘子,"
     ]
    }
   ],
   "source": [
    "list1=['香蕉','橘子']\n",
    "for s in list1:\n",
    "    print(s,end=',')"
   ]
  },
  {
   "cell_type": "code",
   "execution_count": 20,
   "metadata": {},
   "outputs": [
    {
     "name": "stdout",
     "output_type": "stream",
     "text": [
      "[['mary', 'abcd']]\n",
      "['mary', 'abcd']\n",
      "['tom', '1234']\n"
     ]
    }
   ],
   "source": [
    "list5=[['tom','1234']],[['mary','abcd']]\n",
    "print(list5[1])\n",
    "print(list5[1][1])\n",
    "print(list5[0][0])"
   ]
  },
  {
   "cell_type": "code",
   "execution_count": 25,
   "metadata": {},
   "outputs": [
    {
     "name": "stdout",
     "output_type": "stream",
     "text": [
      "國文成績: 85\n",
      "數學成績: 79\n",
      "英文成績: 94\n"
     ]
    }
   ],
   "source": [
    "g,h,i=list(map(int,input().split()))\n",
    "list1=[g,h,i]\n",
    "print('國文成績:',list1[0])\n",
    "print('數學成績:',list1[-2])\n",
    "print('英文成績:',list1[-1])"
   ]
  },
  {
   "cell_type": "code",
   "execution_count": 35,
   "metadata": {},
   "outputs": [
    {
     "name": "stdout",
     "output_type": "stream",
     "text": [
      "{True, 123, '橘子'}  "
     ]
    }
   ],
   "source": [
    "list1={123,'橘子',True}\n",
    "print(list1,end='  ')"
   ]
  },
  {
   "cell_type": "code",
   "execution_count": null,
   "metadata": {},
   "outputs": [],
   "source": [
    "list1=['85','79','93']\n",
    "print('國文成績:',list1[0])\n",
    "print('數學成績:',list1[-2])\n",
    "print('英文成績:',list1[-1])"
   ]
  },
  {
   "cell_type": "code",
   "execution_count": 81,
   "metadata": {},
   "outputs": [
    {
     "ename": "SyntaxError",
     "evalue": "invalid syntax (2466639574.py, line 3)",
     "output_type": "error",
     "traceback": [
      "\u001b[1;36m  Cell \u001b[1;32mIn[81], line 3\u001b[1;36m\u001b[0m\n\u001b[1;33m    print('國文成績:',%s,s[j])\u001b[0m\n\u001b[1;37m                  ^\u001b[0m\n\u001b[1;31mSyntaxError\u001b[0m\u001b[1;31m:\u001b[0m invalid syntax\n"
     ]
    }
   ],
   "source": [
    "s=['85','79','93']\n",
    "for j in range(len(s)):\n",
    "    print('國文成績:',%s,s[j])\n"
   ]
  },
  {
   "cell_type": "code",
   "execution_count": null,
   "metadata": {},
   "outputs": [],
   "source": [
    "tom=['85','79','93']\n",
    "list2=['tom','mary','tony']\n",
    "for s in range(tom):\n",
    "    print('國文成績:'),tom[0]\n",
    "    print('數學成績:')\n",
    "    print('英文成績:')\n",
    "print('姓名:',list2[0])"
   ]
  },
  {
   "cell_type": "code",
   "execution_count": 88,
   "metadata": {},
   "outputs": [
    {
     "name": "stdout",
     "output_type": "stream",
     "text": [
      "國文成績:85\n",
      "英文成績:79\n",
      "數學成績:93\n",
      "\n",
      "編號:1\n",
      "編號:2\n",
      "編號:3\n",
      "\n",
      "姓名:tom\n",
      "姓名:mary\n",
      "姓名:tony\n",
      "\n"
     ]
    }
   ],
   "source": [
    "subject=['國文','英文','數學']\n",
    "scores=[85,79,93]\n",
    "name=['tom','mary','tony']\n",
    "for s in range(len(subject)):\n",
    "    print(f'{subject[s]}成績:{scores[s]}')\n",
    "print()\n",
    "for s in range(1,len(name) + 1):\n",
    "    print(f'編號:{s}')\n",
    "print()\n",
    "for s in range(len(name)):\n",
    "    print(f'姓名:{name[s]}')\n",
    "print()\n"
   ]
  },
  {
   "cell_type": "code",
   "execution_count": null,
   "metadata": {},
   "outputs": [],
   "source": [
    "input()\n",
    "x=5050\n",
    "print(x)"
   ]
  },
  {
   "cell_type": "code",
   "execution_count": 104,
   "metadata": {},
   "outputs": [
    {
     "name": "stdout",
     "output_type": "stream",
     "text": [
      "8 is even\n"
     ]
    }
   ],
   "source": [
    "a=int(input())\n",
    "if a <0:\n",
    "    print(\"Input Error\")\n",
    "elif a%2==0:\n",
    "    print(f'{a} is even')\n",
    "else:\n",
    "    print(f'{a} is odd')"
   ]
  },
  {
   "cell_type": "code",
   "execution_count": 107,
   "metadata": {},
   "outputs": [
    {
     "name": "stdout",
     "output_type": "stream",
     "text": [
      "Input Error\n"
     ]
    }
   ],
   "source": [
    "a=int(input())\n",
    "if a ==0:\n",
    "    print(\"0 yuan\")\n",
    "elif a>=1 and a<=5:\n",
    "    print('240 yuan')\n",
    "elif a>5:\n",
    "    print(240+40*(a-5),'yuan')\n",
    "else:\n",
    "    print('Input Error')"
   ]
  },
  {
   "cell_type": "code",
   "execution_count": 115,
   "metadata": {},
   "outputs": [
    {
     "name": "stdout",
     "output_type": "stream",
     "text": [
      "115927.40743\n"
     ]
    }
   ],
   "source": [
    "a=int(input())\n",
    "b=100000\n",
    "c=b*(1+0.03)**a\n",
    "if a<0:\n",
    "    print(\"Input Error\")\n",
    "else:\n",
    "    print(float(c))"
   ]
  },
  {
   "cell_type": "code",
   "execution_count": 116,
   "metadata": {},
   "outputs": [
    {
     "name": "stdout",
     "output_type": "stream",
     "text": [
      "4\n"
     ]
    }
   ],
   "source": [
    "g,h,i=list(map(int,input().split()))\n",
    "print(min(g,h,i))"
   ]
  },
  {
   "cell_type": "code",
   "execution_count": 123,
   "metadata": {},
   "outputs": [
    {
     "name": "stdout",
     "output_type": "stream",
     "text": [
      "15\n"
     ]
    }
   ],
   "source": [
    "c,d=list(map(int,input().split()))\n",
    "import math\n",
    "print(math.lcm(c, d))"
   ]
  },
  {
   "cell_type": "code",
   "execution_count": 132,
   "metadata": {},
   "outputs": [
    {
     "ename": "TypeError",
     "evalue": "not all arguments converted during string formatting",
     "output_type": "error",
     "traceback": [
      "\u001b[1;31m---------------------------------------------------------------------------\u001b[0m",
      "\u001b[1;31mTypeError\u001b[0m                                 Traceback (most recent call last)",
      "Cell \u001b[1;32mIn[132], line 3\u001b[0m\n\u001b[0;32m      1\u001b[0m c,d\u001b[38;5;241m=\u001b[39m\u001b[38;5;28mmap\u001b[39m(\u001b[38;5;28mint\u001b[39m,\u001b[38;5;28minput\u001b[39m()\u001b[38;5;241m.\u001b[39msplit())\n\u001b[0;32m      2\u001b[0m e\u001b[38;5;241m=\u001b[39m\u001b[38;5;124m\"\u001b[39m\u001b[38;5;124m\"\u001b[39m\n\u001b[1;32m----> 3\u001b[0m \u001b[38;5;28;01mif\u001b[39;00m \u001b[43me\u001b[49m\u001b[38;5;241;43m%\u001b[39;49m\u001b[43mc\u001b[49m\u001b[38;5;241m==\u001b[39m\u001b[38;5;241m0\u001b[39m \u001b[38;5;129;01mand\u001b[39;00m e\u001b[38;5;241m%\u001b[39md\u001b[38;5;241m==\u001b[39m\u001b[38;5;241m0\u001b[39m:\n\u001b[0;32m      4\u001b[0m     \u001b[38;5;28mprint\u001b[39m(\u001b[38;5;28mmin\u001b[39m(e))\n",
      "\u001b[1;31mTypeError\u001b[0m: not all arguments converted during string formatting"
     ]
    }
   ],
   "source": [
    "c,d=map(int,input().split())\n",
    "e=\"\"\n",
    "if e%c==0 and e%d==0:\n",
    "    print(min(e))"
   ]
  },
  {
   "cell_type": "code",
   "execution_count": null,
   "metadata": {},
   "outputs": [],
   "source": [
    "def reverse_input():\n",
    "    # 接收使用者輸入，並將其拆分為列表\n",
    "    user_input = input().split()\n",
    "    # 將列表倒序排列\n",
    "    reversed_list = user_input[::-1]\n",
    "    # 將倒序列表轉換回字串並輸出\n",
    "    output = \" \".join(reversed_list)      #15題\n",
    "    print(output)\n",
    "\n",
    "# 呼叫主程式\n",
    "reverse_input()"
   ]
  },
  {
   "cell_type": "code",
   "execution_count": null,
   "metadata": {},
   "outputs": [],
   "source": [
    "user_input = input()\n",
    "start, stop, step = map(int, user_input.split())\n",
    "output = \",\".join(map(str, range(start, stop, step)))   #30題\n",
    "print(output + \",\")"
   ]
  },
  {
   "cell_type": "code",
   "execution_count": 130,
   "metadata": {},
   "outputs": [
    {
     "name": "stdout",
     "output_type": "stream",
     "text": [
      "[3, 4, 5, 6, 7]\n"
     ]
    }
   ],
   "source": [
    "g,h,i=list(map(int,input().split()))\n",
    "print(list(range(g,h,i))) #32題"
   ]
  },
  {
   "cell_type": "code",
   "execution_count": 134,
   "metadata": {},
   "outputs": [
    {
     "name": "stdout",
     "output_type": "stream",
     "text": [
      "Valid\n"
     ]
    }
   ],
   "source": [
    "g,h,i=list(map(int,input().split()))\n",
    "if g+h+i <0 or g+h+i =0:\n",
    "    print(\"InValid\")\n",
    "else:\n",
    "    print('Valid')"
   ]
  }
 ],
 "metadata": {
  "kernelspec": {
   "display_name": "Python 3",
   "language": "python",
   "name": "python3"
  },
  "language_info": {
   "codemirror_mode": {
    "name": "ipython",
    "version": 3
   },
   "file_extension": ".py",
   "mimetype": "text/x-python",
   "name": "python",
   "nbconvert_exporter": "python",
   "pygments_lexer": "ipython3",
   "version": "3.12.4"
  }
 },
 "nbformat": 4,
 "nbformat_minor": 2
}
