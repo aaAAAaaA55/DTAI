{
 "cells": [
  {
   "cell_type": "code",
   "execution_count": 2,
   "metadata": {},
   "outputs": [
    {
     "name": "stdout",
     "output_type": "stream",
     "text": [
      "[2, 3, 4]\n"
     ]
    }
   ],
   "source": [
    "print(list(range(2,5)))"
   ]
  },
  {
   "cell_type": "code",
   "execution_count": 5,
   "metadata": {},
   "outputs": [
    {
     "name": "stdout",
     "output_type": "stream",
     "text": [
      "[2]\n"
     ]
    }
   ],
   "source": [
    "print(list(range(2,5,9)))"
   ]
  },
  {
   "cell_type": "code",
   "execution_count": 6,
   "metadata": {},
   "outputs": [
    {
     "name": "stdout",
     "output_type": "stream",
     "text": [
      "{'香蕉', '橘子'}\n"
     ]
    }
   ],
   "source": [
    "list1={'香蕉','橘子'}\n",
    "print(list1)"
   ]
  },
  {
   "cell_type": "code",
   "execution_count": 14,
   "metadata": {},
   "outputs": [
    {
     "name": "stdout",
     "output_type": "stream",
     "text": [
      "['香蕉', '橘子']\n",
      "橘子\n",
      "香蕉\n"
     ]
    }
   ],
   "source": [
    "list1=['香蕉','橘子']\n",
    "print(list1)\n",
    "print(list1[1])\n",
    "print(list1[-2])"
   ]
  },
  {
   "cell_type": "code",
   "execution_count": 29,
   "metadata": {},
   "outputs": [
    {
     "name": "stdout",
     "output_type": "stream",
     "text": [
      "香蕉\n",
      "橘子\n"
     ]
    }
   ],
   "source": [
    "list1=['香蕉','橘子']\n",
    "for s in list1:\n",
    "    print(s)"
   ]
  },
  {
   "cell_type": "code",
   "execution_count": 31,
   "metadata": {},
   "outputs": [
    {
     "name": "stdout",
     "output_type": "stream",
     "text": [
      "香蕉,橘子,"
     ]
    }
   ],
   "source": [
    "list1=['香蕉','橘子']\n",
    "for s in list1:\n",
    "    print(s,end=',')"
   ]
  },
  {
   "cell_type": "code",
   "execution_count": 20,
   "metadata": {},
   "outputs": [
    {
     "name": "stdout",
     "output_type": "stream",
     "text": [
      "[['mary', 'abcd']]\n",
      "['mary', 'abcd']\n",
      "['tom', '1234']\n"
     ]
    }
   ],
   "source": [
    "list5=[['tom','1234']],[['mary','abcd']]\n",
    "print(list5[1])\n",
    "print(list5[1][1])\n",
    "print(list5[0][0])"
   ]
  },
  {
   "cell_type": "code",
   "execution_count": 25,
   "metadata": {},
   "outputs": [
    {
     "name": "stdout",
     "output_type": "stream",
     "text": [
      "國文成績: 85\n",
      "數學成績: 79\n",
      "英文成績: 94\n"
     ]
    }
   ],
   "source": [
    "g,h,i=list(map(int,input().split()))\n",
    "list1=[g,h,i]\n",
    "print('國文成績:',list1[0])\n",
    "print('數學成績:',list1[-2])\n",
    "print('英文成績:',list1[-1])"
   ]
  },
  {
   "cell_type": "code",
   "execution_count": 35,
   "metadata": {},
   "outputs": [
    {
     "name": "stdout",
     "output_type": "stream",
     "text": [
      "{True, 123, '橘子'}  "
     ]
    }
   ],
   "source": [
    "list1={123,'橘子',True}\n",
    "print(list1,end='  ')"
   ]
  },
  {
   "cell_type": "code",
   "execution_count": null,
   "metadata": {},
   "outputs": [],
   "source": [
    "list1=['85','79','93']\n",
    "print('國文成績:',list1[0])\n",
    "print('數學成績:',list1[-2])\n",
    "print('英文成績:',list1[-1])"
   ]
  },
  {
   "cell_type": "code",
   "execution_count": 81,
   "metadata": {},
   "outputs": [
    {
     "ename": "SyntaxError",
     "evalue": "invalid syntax (2466639574.py, line 3)",
     "output_type": "error",
     "traceback": [
      "\u001b[1;36m  Cell \u001b[1;32mIn[81], line 3\u001b[1;36m\u001b[0m\n\u001b[1;33m    print('國文成績:',%s,s[j])\u001b[0m\n\u001b[1;37m                  ^\u001b[0m\n\u001b[1;31mSyntaxError\u001b[0m\u001b[1;31m:\u001b[0m invalid syntax\n"
     ]
    }
   ],
   "source": [
    "s=['85','79','93']\n",
    "for j in range(len(s)):\n",
    "    print('國文成績:',%s,s[j])\n"
   ]
  },
  {
   "cell_type": "code",
   "execution_count": null,
   "metadata": {},
   "outputs": [],
   "source": [
    "tom=['85','79','93']\n",
    "list2=['tom','mary','tony']\n",
    "for s in range(tom):\n",
    "    print('國文成績:'),tom[0]\n",
    "    print('數學成績:')\n",
    "    print('英文成績:')\n",
    "print('姓名:',list2[0])"
   ]
  },
  {
   "cell_type": "code",
   "execution_count": 88,
   "metadata": {},
   "outputs": [
    {
     "name": "stdout",
     "output_type": "stream",
     "text": [
      "國文成績:85\n",
      "英文成績:79\n",
      "數學成績:93\n",
      "\n",
      "編號:1\n",
      "編號:2\n",
      "編號:3\n",
      "\n",
      "姓名:tom\n",
      "姓名:mary\n",
      "姓名:tony\n",
      "\n"
     ]
    }
   ],
   "source": [
    "subject=['國文','英文','數學']\n",
    "scores=[85,79,93]\n",
    "name=['tom','mary','tony']\n",
    "for s in range(len(subject)):\n",
    "    print(f'{subject[s]}成績:{scores[s]}')\n",
    "print()\n",
    "for s in range(1,len(name) + 1):\n",
    "    print(f'編號:{s}')\n",
    "print()\n",
    "for s in range(len(name)):\n",
    "    print(f'姓名:{name[s]}')\n",
    "print()\n"
   ]
  },
  {
   "cell_type": "code",
   "execution_count": 89,
   "metadata": {},
   "outputs": [
    {
     "name": "stdout",
     "output_type": "stream",
     "text": [
      "1,5,9,13,17,21,25,29,33,37,41,45,49,53,57,61,65,69,73,77,81,85,89,93,97,101,105,109,113,117,121,125,129,133,137,141,145,149,153,157,161,165,169,173,177,181,185,189,193,197,\n"
     ]
    }
   ],
   "source": [
    "user_input = input()\n",
    "start, stop, step = map(int, user_input.split())\n",
    "output = \",\".join(map(str, range(start, stop, step)))\n",
    "print(output + \",\")"
   ]
  },
  {
   "cell_type": "code",
   "execution_count": null,
   "metadata": {},
   "outputs": [],
   "source": [
    "def reverse_input():\n",
    "    # 接收使用者輸入，並將其拆分為列表\n",
    "    user_input = input().split()\n",
    "    # 將列表倒序排列\n",
    "    reversed_list = user_input[::-1]\n",
    "    # 將倒序列表轉換回字串並輸出\n",
    "    output = \" \".join(reversed_list)\n",
    "    print(output)\n",
    "\n",
    "# 呼叫主程式\n",
    "reverse_input()"
   ]
  }
 ],
 "metadata": {
  "kernelspec": {
   "display_name": "Python 3",
   "language": "python",
   "name": "python3"
  },
  "language_info": {
   "codemirror_mode": {
    "name": "ipython",
    "version": 3
   },
   "file_extension": ".py",
   "mimetype": "text/x-python",
   "name": "python",
   "nbconvert_exporter": "python",
   "pygments_lexer": "ipython3",
   "version": "3.12.4"
  }
 },
 "nbformat": 4,
 "nbformat_minor": 2
}
