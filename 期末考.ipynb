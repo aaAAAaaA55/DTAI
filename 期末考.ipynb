{
 "cells": [
  {
   "cell_type": "code",
   "execution_count": null,
   "metadata": {},
   "outputs": [],
   "source": [
    "dividend = float(input()) \n",
    "divisor = float(input()) \n",
    "remainder = dividend % divisor\n",
    "print(remainder)"
   ]
  },
  {
   "cell_type": "code",
   "execution_count": null,
   "metadata": {},
   "outputs": [],
   "source": [
    "start, end = map(int, input().split())\n",
    "narcissistic_numbers = []\n",
    "for num in range(start, end + 1):\n",
    "    digits = str(num)\n",
    "    sum_of_cubes = sum(int(digit) ** 3 for digit in digits)\n",
    "    if sum_of_cubes == num:\n",
    "        narcissistic_numbers.append(str(num))\n",
    "print(\",\".join(narcissistic_numbers) + \",\")"
   ]
  },
  {
   "cell_type": "code",
   "execution_count": null,
   "metadata": {},
   "outputs": [],
   "source": [
    "t = float(input())\n",
    "b = float(input())  \n",
    "h = float(input())  \n",
    "area = (t + b) * h / 2 \n",
    "print('t={} b={} h={} area={}'.format(t, b, h, area))"
   ]
  },
  {
   "cell_type": "code",
   "execution_count": null,
   "metadata": {},
   "outputs": [],
   "source": [
    "分鐘 = int(input())\n",
    "\n",
    "小時 = 分鐘 // 60\n",
    "剩餘分鐘 = 分鐘 % 60\n",
    "\n",
    "if 小時 == 0:\n",
    "    費用 = 20\n",
    "else:\n",
    "    費用 = 小時 * 40\n",
    "    if 剩餘分鐘 > 0:\n",
    "        費用 += 20\n",
    "\n",
    "if 費用 > 300:\n",
    "    費用 = 300\n",
    "\n",
    "print(f'park time:{小時}h:{剩餘分鐘}m')\n",
    "print(f'pay:{費用} money')"
   ]
  },
  {
   "cell_type": "code",
   "execution_count": null,
   "metadata": {},
   "outputs": [],
   "source": [
    "a,b,c=list(map(int,input().split()))      \n",
    "print(list(range(a,b,c)))"
   ]
  },
  {
   "cell_type": "code",
   "execution_count": null,
   "metadata": {},
   "outputs": [],
   "source": [
    "y=int(input())\n",
    "if (y%100==0 and y%400==0) or (y%4==0 and y%100!=0):     \n",
    "    print(y,'is leap year')\n",
    "else:\n",
    "    print(y,'is common year')"
   ]
  },
  {
   "cell_type": "code",
   "execution_count": null,
   "metadata": {},
   "outputs": [],
   "source": [
    "體溫=int(input())\n",
    "if 體溫>100:\n",
    "    print(體溫,'is error')         \n",
    "elif 體溫>=90 and 體溫<=100:\n",
    "    print(體溫,'is A')\n",
    "elif 體溫>=80 and 體溫<=89:\n",
    "    print(體溫,'is B')\n",
    "elif 體溫>=70 and 體溫<=79:\n",
    "    print(體溫,'is C')\n",
    "elif 體溫>=60 and 體溫<=69:\n",
    "    print(體溫,'is D')\n",
    "elif 體溫>=0 and 體溫<=59:\n",
    "    print(體溫,'is E')\n",
    "else:\n",
    "    print(體溫,'is error')"
   ]
  },
  {
   "cell_type": "code",
   "execution_count": null,
   "metadata": {},
   "outputs": [],
   "source": [
    "a,b,c=list(map(int,input().split()))   \n",
    "for i in range(a,b,c):\n",
    "    print(i,end=',')"
   ]
  },
  {
   "cell_type": "code",
   "execution_count": null,
   "metadata": {},
   "outputs": [],
   "source": [
    "N = int(input()) \n",
    "for i in range(1,N+1):\n",
    "    print(i*'*')"
   ]
  },
  {
   "cell_type": "code",
   "execution_count": null,
   "metadata": {},
   "outputs": [],
   "source": [
    "a = int(input()) \n",
    "\n",
    "for i in range(a, 10): \n",
    "    for j in range(1, 10):\n",
    "        print('%d*%d=%d' % (i, j, i * j), end=' ')\n",
    "    print()  "
   ]
  }
 ],
 "metadata": {
  "language_info": {
   "name": "python"
  }
 },
 "nbformat": 4,
 "nbformat_minor": 2
}
