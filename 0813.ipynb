{
 "cells": [
  {
   "cell_type": "code",
   "execution_count": 1,
   "metadata": {},
   "outputs": [
    {
     "ename": "NameError",
     "evalue": "name 'score' is not defined",
     "output_type": "error",
     "traceback": [
      "\u001b[1;31m---------------------------------------------------------------------------\u001b[0m",
      "\u001b[1;31mNameError\u001b[0m                                 Traceback (most recent call last)",
      "Cell \u001b[1;32mIn[1], line 1\u001b[0m\n\u001b[1;32m----> 1\u001b[0m \u001b[38;5;28;01mif\u001b[39;00m(\u001b[43mscore\u001b[49m\u001b[38;5;241m<\u001b[39m\u001b[38;5;241m60\u001b[39m):\n\u001b[0;32m      2\u001b[0m     grade\n",
      "\u001b[1;31mNameError\u001b[0m: name 'score' is not defined"
     ]
    }
   ],
   "source": [
    "if(score<60):\n",
    "    grade"
   ]
  },
  {
   "cell_type": "code",
   "execution_count": 11,
   "metadata": {},
   "outputs": [
    {
     "name": "stdout",
     "output_type": "stream",
     "text": [
      "歡迎光臨\n"
     ]
    }
   ],
   "source": [
    "密碼=int(input('輸入密碼'))\n",
    "if 密碼==1234:\n",
    "    print('歡迎光臨')\n",
    "else:\n",
    "    print('密碼錯誤')"
   ]
  },
  {
   "cell_type": "code",
   "execution_count": 16,
   "metadata": {},
   "outputs": [
    {
     "name": "stdout",
     "output_type": "stream",
     "text": [
      "記得帶傘\n"
     ]
    }
   ],
   "source": [
    "rain=input('下雨否(y/n)?')\n",
    "if (rain=='Y' or rain =='y'):\n",
    "    print('記得帶傘')\n",
    "else:\n",
    "    print('不用')"
   ]
  },
  {
   "cell_type": "code",
   "execution_count": 17,
   "metadata": {},
   "outputs": [
    {
     "name": "stdout",
     "output_type": "stream",
     "text": [
      "數字為奇數\n"
     ]
    }
   ],
   "source": [
    "偶數判斷=int(input('請輸入數字'))\n",
    "if 偶數判斷%2==0:\n",
    "    print('數字為偶數')\n",
    "else:\n",
    "    print('數字為奇數')"
   ]
  },
  {
   "cell_type": "code",
   "execution_count": 25,
   "metadata": {},
   "outputs": [
    {
     "name": "stdout",
     "output_type": "stream",
     "text": [
      "體溫過高\n"
     ]
    }
   ],
   "source": [
    "體溫=eval(input('請輸入體溫'))\n",
    "if 體溫>=37.5:\n",
    "    print('體溫過高')\n",
    "elif 體溫>=37 and 體溫<=37.4:\n",
    "    print('體溫略高')\n",
    "elif 體溫>=34 and 體溫<=36.9:\n",
    "    print('體溫正常')\n",
    "else:\n",
    "    print('體溫異常，請重新量測')"
   ]
  },
  {
   "cell_type": "code",
   "execution_count": 40,
   "metadata": {},
   "outputs": [
    {
     "name": "stdout",
     "output_type": "stream",
     "text": [
      "折扣後的最終價格為: 40\n"
     ]
    }
   ],
   "source": [
    "total=int(input('請輸入購物車總額'))\n",
    "if total>1000:\n",
    "    print('折扣後的最終價格為:',total*0.8)\n",
    "\n",
    "elif total>=500 and total<=1000:\n",
    "    print('折扣後的最終價格為:',total*0.9)\n",
    "\n",
    "else:\n",
    "    print('折扣後的最終價格為:',total)"
   ]
  },
  {
   "cell_type": "code",
   "execution_count": 43,
   "metadata": {},
   "outputs": [
    {
     "name": "stdout",
     "output_type": "stream",
     "text": [
      "需要立即加油！\n"
     ]
    }
   ],
   "source": [
    "fuel=int(input('請輸入剩餘油量(公升)'))\n",
    "if fuel>10:\n",
    "    print('油量充足')\n",
    "\n",
    "elif fuel>=5 and fuel<=10:\n",
    "    print('油量不足，建議加油')\n",
    "\n",
    "else:\n",
    "    print('需要立即加油！')"
   ]
  },
  {
   "cell_type": "code",
   "execution_count": 48,
   "metadata": {},
   "outputs": [
    {
     "name": "stdout",
     "output_type": "stream",
     "text": [
      "最終轉帳金額為: 80000\n"
     ]
    }
   ],
   "source": [
    "amount=int(input('請輸入購物車總額'))\n",
    "if amount>10000:\n",
    "    print('最終轉帳金額為:',amount)\n",
    "\n",
    "elif amount>=5000 and amount<=10000:\n",
    "    print('最終轉帳金額為:',amount-50)\n",
    "elif amount>=1000 and amount<5000:\n",
    "    print('最終轉帳金額為:',amount-100)\n",
    "\n",
    "else:\n",
    "    print('最終轉帳金額為:',amount-150)"
   ]
  },
  {
   "cell_type": "code",
   "execution_count": null,
   "metadata": {},
   "outputs": [],
   "source": []
  }
 ],
 "metadata": {
  "kernelspec": {
   "display_name": "Python 3",
   "language": "python",
   "name": "python3"
  },
  "language_info": {
   "codemirror_mode": {
    "name": "ipython",
    "version": 3
   },
   "file_extension": ".py",
   "mimetype": "text/x-python",
   "name": "python",
   "nbconvert_exporter": "python",
   "pygments_lexer": "ipython3",
   "version": "3.12.4"
  }
 },
 "nbformat": 4,
 "nbformat_minor": 2
}
