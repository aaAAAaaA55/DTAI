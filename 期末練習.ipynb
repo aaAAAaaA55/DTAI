{
 "cells": [
  {
   "cell_type": "code",
   "execution_count": null,
   "metadata": {},
   "outputs": [],
   "source": [
    "g,h,i=list(map(int,input().split())) #練習5\n",
    "print(min(g,h,i))"
   ]
  },
  {
   "cell_type": "code",
   "execution_count": null,
   "metadata": {},
   "outputs": [],
   "source": [
    "N = int(input()) \n",
    "b=0\n",
    "for i in range(1,N+1): #練習8\n",
    "    if i%3==0 or i%7==0: \n",
    "        b+=i\n",
    "print(b)"
   ]
  },
  {
   "cell_type": "code",
   "execution_count": 1,
   "metadata": {},
   "outputs": [
    {
     "name": "stdout",
     "output_type": "stream",
     "text": [
      "*\n",
      "**\n",
      "***\n",
      "****\n"
     ]
    }
   ],
   "source": [
    "N = int(input()) \n",
    "for i in range(1,N+1): #練習9\n",
    "    print(i*'*')"
   ]
  },
  {
   "cell_type": "code",
   "execution_count": 2,
   "metadata": {},
   "outputs": [
    {
     "name": "stdout",
     "output_type": "stream",
     "text": [
      "1\n",
      "12\n",
      "123\n",
      "1234\n"
     ]
    }
   ],
   "source": [
    "N = int(input()) \n",
    "for i in range(1,N+1): #練習10\n",
    "    print(''.join(str(x) for x in range(1, i + 1)))"
   ]
  },
  {
   "cell_type": "code",
   "execution_count": null,
   "metadata": {},
   "outputs": [],
   "source": [
    "a,b,c=list(map(int,input().split()))\n",
    "if a + b > c and a + c > b and b + c > a:          #練習14\n",
    "    print(\"Valid\")\n",
    "else:\n",
    "    print(\"Invalid\")"
   ]
  },
  {
   "cell_type": "code",
   "execution_count": null,
   "metadata": {},
   "outputs": [],
   "source": [
    "y=int(input())\n",
    "if (y%100==0 and y%400==0) or (y%4==0 and y%100!=0):      #練習18\n",
    "    print(y,'is leap year')\n",
    "else:\n",
    "    print(y,'is common year')"
   ]
  },
  {
   "cell_type": "code",
   "execution_count": null,
   "metadata": {},
   "outputs": [],
   "source": [
    "a = int(input())  # 接收使用者輸入的數字\n",
    "\n",
    "for i in range(a, 10):  # 從 a 到 9 的每一個數字           #練習19\n",
    "    for j in range(1, 10):  # 從 1 到 9 的每一個數字\n",
    "        # 使用 %d 格式化輸出\n",
    "        print('%d*%d=%d' % (i, j, i * j), end=' ')  # 每行輸出，不換行\n",
    "    print()  # 每次外層迴圈結束後換行"
   ]
  },
  {
   "cell_type": "code",
   "execution_count": null,
   "metadata": {},
   "outputs": [],
   "source": [
    "a = str(input())           #練習21\n",
    "print('Ans', a)"
   ]
  },
  {
   "cell_type": "code",
   "execution_count": null,
   "metadata": {},
   "outputs": [],
   "source": [
    "a,b,c,d,e,f,g,h,i=list(map(int,input().split()))          #練習22\n",
    "x=a+b+c+d+e+f+g+h+i\n",
    "print(x)"
   ]
  },
  {
   "cell_type": "code",
   "execution_count": null,
   "metadata": {},
   "outputs": [],
   "source": [
    "a = str(input())           #練習23\n",
    "print(len(a))"
   ]
  },
  {
   "cell_type": "code",
   "execution_count": null,
   "metadata": {},
   "outputs": [],
   "source": [
    "體溫=int(input())\n",
    "if 體溫>100:\n",
    "    print(體溫,'is error')         #練習26\n",
    "elif 體溫>=90 and 體溫<=100:\n",
    "    print(體溫,'is A')\n",
    "elif 體溫>=80 and 體溫<=89:\n",
    "    print(體溫,'is B')\n",
    "elif 體溫>=70 and 體溫<=79:\n",
    "    print(體溫,'is C')\n",
    "elif 體溫>=60 and 體溫<=69:\n",
    "    print(體溫,'is D')\n",
    "elif 體溫>=0 and 體溫<=59:\n",
    "    print(體溫,'is E')\n",
    "else:\n",
    "    print(體溫,'is error')"
   ]
  }
 ],
 "metadata": {
  "kernelspec": {
   "display_name": "Python 3",
   "language": "python",
   "name": "python3"
  },
  "language_info": {
   "codemirror_mode": {
    "name": "ipython",
    "version": 3
   },
   "file_extension": ".py",
   "mimetype": "text/x-python",
   "name": "python",
   "nbconvert_exporter": "python",
   "pygments_lexer": "ipython3",
   "version": "3.12.4"
  }
 },
 "nbformat": 4,
 "nbformat_minor": 2
}
