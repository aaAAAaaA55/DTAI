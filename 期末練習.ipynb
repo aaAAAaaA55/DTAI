{
 "cells": [
  {
   "cell_type": "code",
   "execution_count": null,
   "metadata": {},
   "outputs": [],
   "source": [
    "g,h,i=list(map(int,input().split())) #練習5\n",
    "print(min(g,h,i))"
   ]
  },
  {
   "cell_type": "code",
   "execution_count": null,
   "metadata": {},
   "outputs": [],
   "source": [
    "N = int(input()) \n",
    "b=0\n",
    "for i in range(1,N+1): #練習8\n",
    "    if i%3==0 or i%7==0: \n",
    "        b+=i\n",
    "print(b)"
   ]
  },
  {
   "cell_type": "code",
   "execution_count": 1,
   "metadata": {},
   "outputs": [
    {
     "name": "stdout",
     "output_type": "stream",
     "text": [
      "*\n",
      "**\n",
      "***\n",
      "****\n"
     ]
    }
   ],
   "source": [
    "N = int(input()) \n",
    "for i in range(1,N+1): #練習9\n",
    "    print(i*'*')"
   ]
  },
  {
   "cell_type": "code",
   "execution_count": 2,
   "metadata": {},
   "outputs": [
    {
     "name": "stdout",
     "output_type": "stream",
     "text": [
      "1\n",
      "12\n",
      "123\n",
      "1234\n"
     ]
    }
   ],
   "source": [
    "N = int(input()) \n",
    "for i in range(1,N+1): #練習10\n",
    "    print(''.join(str(x) for x in range(1, i + 1)))"
   ]
  },
  {
   "cell_type": "code",
   "execution_count": null,
   "metadata": {},
   "outputs": [],
   "source": [
    "a,b,c=list(map(int,input().split()))\n",
    "if a + b > c and a + c > b and b + c > a:          #練習14\n",
    "    print(\"Valid\")\n",
    "else:\n",
    "    print(\"Invalid\")"
   ]
  },
  {
   "cell_type": "code",
   "execution_count": null,
   "metadata": {},
   "outputs": [],
   "source": [
    "y=int(input())\n",
    "if (y%100==0 and y%400==0) or (y%4==0 and y%100!=0):      #練習18\n",
    "    print(y,'is leap year')\n",
    "else:\n",
    "    print(y,'is common year')"
   ]
  },
  {
   "cell_type": "code",
   "execution_count": null,
   "metadata": {},
   "outputs": [],
   "source": [
    "a = int(input())  # 接收使用者輸入的數字\n",
    "\n",
    "for i in range(a, 10):  # 從 a 到 9 的每一個數字           #練習19\n",
    "    for j in range(1, 10):  # 從 1 到 9 的每一個數字\n",
    "        # 使用 %d 格式化輸出\n",
    "        print('%d*%d=%d' % (i, j, i * j), end=' ')  # 每行輸出，不換行\n",
    "    print()  # 每次外層迴圈結束後換行"
   ]
  },
  {
   "cell_type": "code",
   "execution_count": null,
   "metadata": {},
   "outputs": [],
   "source": [
    "a = str(input())           #練習21\n",
    "print('Ans', a)"
   ]
  },
  {
   "cell_type": "code",
   "execution_count": null,
   "metadata": {},
   "outputs": [],
   "source": [
    "a,b,c,d,e,f,g,h,i=list(map(int,input().split()))          #練習22\n",
    "x=a+b+c+d+e+f+g+h+i\n",
    "print(x)"
   ]
  },
  {
   "cell_type": "code",
   "execution_count": null,
   "metadata": {},
   "outputs": [],
   "source": [
    "a = str(input())           #練習23\n",
    "print(len(a))"
   ]
  },
  {
   "cell_type": "code",
   "execution_count": null,
   "metadata": {},
   "outputs": [],
   "source": [
    "體溫=int(input())\n",
    "if 體溫>100:\n",
    "    print(體溫,'is error')         #練習26\n",
    "elif 體溫>=90 and 體溫<=100:\n",
    "    print(體溫,'is A')\n",
    "elif 體溫>=80 and 體溫<=89:\n",
    "    print(體溫,'is B')\n",
    "elif 體溫>=70 and 體溫<=79:\n",
    "    print(體溫,'is C')\n",
    "elif 體溫>=60 and 體溫<=69:\n",
    "    print(體溫,'is D')\n",
    "elif 體溫>=0 and 體溫<=59:\n",
    "    print(體溫,'is E')\n",
    "else:\n",
    "    print(體溫,'is error')"
   ]
  },
  {
   "cell_type": "code",
   "execution_count": null,
   "metadata": {},
   "outputs": [],
   "source": [
    "體溫=int(input())\n",
    "if 體溫>=100000:\n",
    "    print('80% discount is',體溫*0.8)         #練習29\n",
    "elif 體溫>=50000 and 體溫<100000:\n",
    "    print('85% discount is',體溫*0.85)\n",
    "elif 體溫>=30000 and 體溫<50000:\n",
    "    print('90% discount is',體溫*0.9)\n",
    "elif 體溫>=10000 and 體溫<30000:\n",
    "    print('95% discount is',體溫*0.95)\n",
    "else:\n",
    "    print('no discount is',體溫)"
   ]
  },
  {
   "cell_type": "code",
   "execution_count": 13,
   "metadata": {},
   "outputs": [
    {
     "name": "stdout",
     "output_type": "stream",
     "text": [
      "0,5,10,15,20,25,30,35,40,45,50,55,60,65,70,75,80,85,90,95,"
     ]
    }
   ],
   "source": [
    "a,b,c=list(map(int,input().split()))      #練習30\n",
    "for i in range(a,b,c):\n",
    "    print(i,end=',')"
   ]
  },
  {
   "cell_type": "code",
   "execution_count": null,
   "metadata": {},
   "outputs": [],
   "source": [
    "a,b,c=list(map(int,input().split()))      #練習32\n",
    "print(list(range(a,b,c)))"
   ]
  },
  {
   "cell_type": "code",
   "execution_count": null,
   "metadata": {},
   "outputs": [],
   "source": [
    "a,b,c=list(map(int,input().split()))\n",
    "if a == b != c or a == c != b or b == c != a or  a == b == c:          #練習33\n",
    "    print(\"Valid\")\n",
    "else:\n",
    "    print(\"Invalid\")"
   ]
  },
  {
   "cell_type": "code",
   "execution_count": 16,
   "metadata": {},
   "outputs": [
    {
     "ename": "SyntaxError",
     "evalue": "unterminated f-string literal (detected at line 4) (787038055.py, line 4)",
     "output_type": "error",
     "traceback": [
      "\u001b[1;36m  Cell \u001b[1;32mIn[16], line 4\u001b[1;36m\u001b[0m\n\u001b[1;33m    print(f'park time:{小時}:{分鐘})\u001b[0m\n\u001b[1;37m          ^\u001b[0m\n\u001b[1;31mSyntaxError\u001b[0m\u001b[1;31m:\u001b[0m unterminated f-string literal (detected at line 4)\n"
     ]
    }
   ],
   "source": [
    "分鐘=int(input())            \n",
    "小時=分鐘/60\n",
    "if 分鐘<60:\n",
    "    print(f'park time:{小時}:{分鐘})\n",
    "    print(f'pay:{20}money')      \n",
    "    print(f'park time:{小時}:{分鐘}\n",
    "    print(f'pay:{40*小時+20}money')"
   ]
  },
  {
   "cell_type": "code",
   "execution_count": null,
   "metadata": {},
   "outputs": [],
   "source": [
    "# 使用者輸入停車的分鐘數\n",
    "分鐘 = int(input())\n",
    "\n",
    "# 計算停車時間的「小時」和「分鐘」          #練習34\n",
    "小時 = 分鐘 // 60\n",
    "剩餘分鐘 = 分鐘 % 60\n",
    "\n",
    "# 計算停車費用\n",
    "if 小時 == 0:\n",
    "    費用 = 20\n",
    "else:\n",
    "    費用 = 小時 * 40\n",
    "    if 剩餘分鐘 > 0:\n",
    "        費用 += 20\n",
    "\n",
    "# 如果費用超過300元，則設為300元\n",
    "if 費用 > 300:\n",
    "    費用 = 300\n",
    "\n",
    "# 輸出格式\n",
    "print(f'park time:{小時}h:{剩餘分鐘}m')\n",
    "print(f'pay:{費用} money')"
   ]
  },
  {
   "cell_type": "code",
   "execution_count": null,
   "metadata": {},
   "outputs": [],
   "source": [
    "# 讀取輸入值\n",
    "start, end = map(int, input().split())\n",
    "\n",
    "# 初始化一個空的列表來存放水仙花數              練習35\n",
    "narcissistic_numbers = []\n",
    "\n",
    "# 遍歷指定範圍內的每個數字\n",
    "for num in range(start, end + 1):\n",
    "    # 將數字轉換為字串，以便訪問個位、十位、百位\n",
    "    digits = str(num)\n",
    "    # 計算每位數的立方和\n",
    "    sum_of_cubes = sum(int(digit) ** 3 for digit in digits)\n",
    "    # 如果立方和等於原數，則是水仙花數\n",
    "    if sum_of_cubes == num:\n",
    "        narcissistic_numbers.append(str(num))\n",
    "\n",
    "# 使用逗號將所有水仙花數連接並輸出\n",
    "print(\",\".join(narcissistic_numbers) + \",\")"
   ]
  },
  {
   "cell_type": "code",
   "execution_count": null,
   "metadata": {},
   "outputs": [],
   "source": [
    "a=float(input())  \n",
    "b=float(input()) \n",
    "c=float(input())   #練習35\n",
    "d=(a + b) x c ÷ 2\n",
    "print(f'a={a} b={b} c={c} d={d}')"
   ]
  },
  {
   "cell_type": "code",
   "execution_count": null,
   "metadata": {},
   "outputs": [],
   "source": [
    "t = float(input())  # 上底\n",
    "b = float(input())  # 下底\n",
    "h = float(input())  # 高度\n",
    "area = (t + b) * h / 2  # 计算梯形面积   #練習40\n",
    "\n",
    "# 使用 .format() 格式化输出\n",
    "print('t={} b={} h={} area={}'.format(t, b, h, area))"
   ]
  },
  {
   "cell_type": "code",
   "execution_count": null,
   "metadata": {},
   "outputs": [],
   "source": [
    "dividend = float(input())  # 被除數\n",
    "divisor = float(input())  # 除數   #練習43\n",
    "remainder = dividend % divisor  # 計算餘數\n",
    "\n",
    "# 輸出餘數\n",
    "print(remainder)"
   ]
  },
  {
   "cell_type": "code",
   "execution_count": null,
   "metadata": {},
   "outputs": [],
   "source": []
  }
 ],
 "metadata": {
  "kernelspec": {
   "display_name": "Python 3",
   "language": "python",
   "name": "python3"
  },
  "language_info": {
   "codemirror_mode": {
    "name": "ipython",
    "version": 3
   },
   "file_extension": ".py",
   "mimetype": "text/x-python",
   "name": "python",
   "nbconvert_exporter": "python",
   "pygments_lexer": "ipython3",
   "version": "3.12.4"
  }
 },
 "nbformat": 4,
 "nbformat_minor": 2
}
